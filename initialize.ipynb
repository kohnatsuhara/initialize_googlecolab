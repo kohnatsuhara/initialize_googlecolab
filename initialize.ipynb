{
  "cells": [
    {
      "cell_type": "code",
      "execution_count": 1,
      "metadata": {
        "id": "6Qf_7_i-aSJd",
        "outputId": "2983a81c-6790-4c18-ca0a-b02c9ae8cb55",
        "colab": {
          "base_uri": "https://localhost:8080/"
        }
      },
      "outputs": [
        {
          "output_type": "stream",
          "name": "stdout",
          "text": [
            "/content\n"
          ]
        }
      ],
      "source": [
        "!pwd"
      ]
    },
    {
      "cell_type": "markdown",
      "source": [
        "# googlecolabにgoogledriveをマウント"
      ],
      "metadata": {
        "id": "EER4VdULeQdm"
      }
    },
    {
      "cell_type": "code",
      "source": [
        "from google.colab import drive\n",
        "drive.mount('./drive')"
      ],
      "metadata": {
        "id": "acUjKiWxaX2g",
        "outputId": "6dec9572-3248-4585-fc0a-ee6c76ead5e4",
        "colab": {
          "base_uri": "https://localhost:8080/"
        }
      },
      "execution_count": 2,
      "outputs": [
        {
          "output_type": "stream",
          "name": "stdout",
          "text": [
            "Mounted at ./drive\n"
          ]
        }
      ]
    },
    {
      "cell_type": "markdown",
      "source": [
        "# スクリプトをダウンロードしてディレクトリに配置"
      ],
      "metadata": {
        "id": "AuoijUH0eU41"
      }
    },
    {
      "cell_type": "code",
      "source": [
        "!wget https://github.com/kohnatsuhara/youtube_scraping/archive/refs/heads/main.zip -P ./drive/MyDrive/"
      ],
      "metadata": {
        "id": "hgPEAIz8agGC",
        "outputId": "0b18d004-f989-4ce3-e264-5046cb36f788",
        "colab": {
          "base_uri": "https://localhost:8080/"
        }
      },
      "execution_count": 9,
      "outputs": [
        {
          "output_type": "stream",
          "name": "stdout",
          "text": [
            "--2024-05-28 13:49:25--  https://github.com/kohnatsuhara/youtube_scraping/archive/refs/heads/main.zip\n",
            "Resolving github.com (github.com)... 140.82.113.3\n",
            "Connecting to github.com (github.com)|140.82.113.3|:443... connected.\n",
            "HTTP request sent, awaiting response... 302 Found\n",
            "Location: https://codeload.github.com/kohnatsuhara/youtube_scraping/zip/refs/heads/main [following]\n",
            "--2024-05-28 13:49:25--  https://codeload.github.com/kohnatsuhara/youtube_scraping/zip/refs/heads/main\n",
            "Resolving codeload.github.com (codeload.github.com)... 140.82.113.10\n",
            "Connecting to codeload.github.com (codeload.github.com)|140.82.113.10|:443... connected.\n",
            "HTTP request sent, awaiting response... 200 OK\n",
            "Length: unspecified [application/zip]\n",
            "Saving to: ‘./drive/MyDrive/main.zip’\n",
            "\n",
            "main.zip                [ <=>                ]  13.52K  --.-KB/s    in 0.009s  \n",
            "\n",
            "2024-05-28 13:49:25 (1.42 MB/s) - ‘./drive/MyDrive/main.zip’ saved [13844]\n",
            "\n"
          ]
        }
      ]
    },
    {
      "cell_type": "code",
      "source": [
        "!unzip ./drive/MyDrive/main.zip -d ./drive/MyDrive/Colab\\ Notebooks"
      ],
      "metadata": {
        "id": "txD-NvzccHc3",
        "outputId": "822afa16-dd1f-4bad-f0d0-6cb0dd470ee7",
        "colab": {
          "base_uri": "https://localhost:8080/"
        }
      },
      "execution_count": 14,
      "outputs": [
        {
          "output_type": "stream",
          "name": "stdout",
          "text": [
            "Archive:  ./drive/MyDrive/main.zip\n",
            "21ac3c844de3ecd7c4184d38f55733544a4ded49\n",
            "   creating: ./drive/MyDrive/Colab Notebooks/youtube_scraping-main/\n",
            "  inflating: ./drive/MyDrive/Colab Notebooks/youtube_scraping-main/auto_youtube_scraping.ipynb  \n",
            "  inflating: ./drive/MyDrive/Colab Notebooks/youtube_scraping-main/config.py  \n",
            "  inflating: ./drive/MyDrive/Colab Notebooks/youtube_scraping-main/youtube_scraping.ipynb  \n"
          ]
        }
      ]
    },
    {
      "cell_type": "code",
      "source": [],
      "metadata": {
        "id": "kqpBPKijexCm"
      },
      "execution_count": null,
      "outputs": []
    }
  ],
  "metadata": {
    "language_info": {
      "name": "python"
    },
    "colab": {
      "provenance": []
    },
    "kernelspec": {
      "name": "python3",
      "display_name": "Python 3"
    }
  },
  "nbformat": 4,
  "nbformat_minor": 0
}